{
 "cells": [
  {
   "cell_type": "code",
   "execution_count": null,
   "metadata": {},
   "outputs": [
    {
     "name": "stderr",
     "output_type": "stream",
     "text": [
      "D:\\Anaconda\\lib\\site-packages\\ipykernel_launcher.py:8: DeprecationWarning: NewId() is deprecated\n",
      "  \n",
      "D:\\Anaconda\\lib\\site-packages\\ipykernel_launcher.py:14: DeprecationWarning: NewId() is deprecated\n",
      "  \n"
     ]
    }
   ],
   "source": [
    "import wx\n",
    "import matplotlib\n",
    "from matplotlib.backends.backend_wxagg import FigureCanvasWxAgg as FigureCanvas\n",
    "from matplotlib.figure import Figure\n",
    "\n",
    "class MainFrame(wx.Frame): \n",
    "    def __init__(self): \n",
    "        wx.Frame.__init__(self, None, wx.NewId(), \"Main\") \n",
    "        self.sizer = wx.BoxSizer(wx.HORIZONTAL)\n",
    "        self.figure = Figure(figsize=(1,2))\n",
    "        self.axe = self.figure.add_subplot(111)\n",
    "        self.figurecanvas = FigureCanvas(self, -1, self.figure)\n",
    "        self.valueCtrl = wx.TextCtrl(self, -1, \"\")\n",
    "        self.buttonPlot = wx.Button(self, wx.NewId(), \"Plot\")\n",
    "        self.sizer.Add(self.figurecanvas, proportion=1, border=5,\n",
    "                       flag=wx.ALL | wx.EXPAND)\n",
    "        self.sizer.Add(self.buttonPlot, proportion=0, border=2, flag=wx.ALL)\n",
    "        self.sizer.Add(self.valueCtrl, proportion=0, border=2, flag=wx.ALL)\n",
    "        self.SetSizer(self.sizer)\n",
    "        self.buttonPlot.Bind(wx.EVT_BUTTON, self.on_button_plot)\n",
    "\n",
    "    def on_button_plot(self, evt):\n",
    "        self.figure.set_canvas(self.figurecanvas)\n",
    "        self.axe.clear()\n",
    "        self.axe.plot(range(int(self.valueCtrl.GetValue())), color='green')\n",
    "        self.figurecanvas.draw()\n",
    "\n",
    "class MyApp(wx.App):\n",
    "    def OnInit(self):\n",
    "        frame = MainFrame()\n",
    "        frame.Show(True)\n",
    "        self.SetTopWindow(frame)\n",
    "        return True\n",
    "\n",
    "app = MyApp(0)\n",
    "app.MainLoop() "
   ]
  }
 ],
 "metadata": {
  "kernelspec": {
   "display_name": "Python 3",
   "language": "python",
   "name": "python3"
  },
  "language_info": {
   "codemirror_mode": {
    "name": "ipython",
    "version": 3
   },
   "file_extension": ".py",
   "mimetype": "text/x-python",
   "name": "python",
   "nbconvert_exporter": "python",
   "pygments_lexer": "ipython3",
   "version": "3.7.3"
  }
 },
 "nbformat": 4,
 "nbformat_minor": 2
}
